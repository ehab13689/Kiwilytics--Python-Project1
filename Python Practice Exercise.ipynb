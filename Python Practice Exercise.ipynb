{
 "cells": [
  {
   "cell_type": "markdown",
   "id": "705bbfb3",
   "metadata": {},
   "source": [
    "Python Data Analysis: Sales and Revenue Insights\n",
    "This project demonstrates a fundamental data analysis workflow using Python and several key libraries. The goal is to perform data cleaning, transformation, and exploratory analysis on a sales dataset to answer specific business questions.\n",
    "\n"
   ]
  },
  {
   "cell_type": "code",
   "execution_count": null,
   "id": "d57f4029",
   "metadata": {},
   "outputs": [
    {
     "name": "stdout",
     "output_type": "stream",
     "text": [
      "Summary of the dataset: \n",
      "\n",
      "   order_id customer_name     product  quantity  unit_price  order_date\n",
      "0         1         Maria  Kiwi Chips         2         3.0  2024-01-29\n",
      "1         2       Richard  Kiwi Chips         1         3.0  2024-01-08\n",
      "2         3      Nicholas  Kiwi Candy         1         2.5  2024-01-25\n",
      "3         4       Raymond  Kiwi Candy         4         NaN  2024-01-04\n",
      "4         5         David  Kiwi Juice         1         4.5  2024-02-25\n",
      "Information of the dataset: \n",
      "\n",
      "<class 'pandas.core.frame.DataFrame'>\n",
      "RangeIndex: 100 entries, 0 to 99\n",
      "Data columns (total 6 columns):\n",
      " #   Column         Non-Null Count  Dtype  \n",
      "---  ------         --------------  -----  \n",
      " 0   order_id       100 non-null    int64  \n",
      " 1   customer_name  100 non-null    object \n",
      " 2   product        100 non-null    object \n",
      " 3   quantity       100 non-null    int64  \n",
      " 4   unit_price     92 non-null     float64\n",
      " 5   order_date     100 non-null    object \n",
      "dtypes: float64(1), int64(2), object(3)\n",
      "memory usage: 4.8+ KB\n",
      "None\n",
      "Description of the dataset: \n",
      "\n",
      "         order_id    quantity  unit_price\n",
      "count  100.000000  100.000000   92.000000\n",
      "mean    50.500000    2.910000    3.961957\n",
      "std     29.011492    1.371389    1.326471\n",
      "min      1.000000    1.000000    2.500000\n",
      "25%     25.750000    2.000000    2.500000\n",
      "50%     50.500000    3.000000    3.750000\n",
      "75%     75.250000    4.000000    5.500000\n",
      "max    100.000000    5.000000    6.000000\n",
      "Missing values in the dataset: \n",
      "\n",
      "order_id         0\n",
      "customer_name    0\n",
      "product          0\n",
      "quantity         0\n",
      "unit_price       8\n",
      "order_date       0\n",
      "dtype: int64\n",
      "Unique values in the dataset: \n",
      "\n",
      "order_id         100\n",
      "customer_name     75\n",
      "product            5\n",
      "quantity           5\n",
      "unit_price         5\n",
      "order_date        62\n",
      "dtype: int64\n",
      "Value counts in the dataset: \n",
      "\n",
      "order_id  customer_name  product        quantity  unit_price  order_date\n",
      "1         Maria          Kiwi Chips     2         3.0         2024-01-29    1\n",
      "65        Jose           Kiwi Smoothie  3         5.5         2024-02-13    1\n",
      "75        Matthew        Kiwi Candy     5         2.5         2024-03-09    1\n",
      "74        Theresa        Kiwi Smoothie  2         5.5         2024-01-05    1\n",
      "73        April          Kiwi Chips     2         3.0         2024-02-22    1\n",
      "                                                                           ..\n",
      "34        Tiffany        Kiwi Chips     3         3.0         2024-03-22    1\n",
      "33        Patricia       Kiwi Smoothie  3         5.5         2024-02-11    1\n",
      "31        Henry          Kiwi Smoothie  4         5.5         2024-03-27    1\n",
      "30        Claire         Kiwi Juice     4         4.5         2024-03-20    1\n",
      "100       Marcus         Kiwi Juice     2         4.5         2024-02-27    1\n",
      "Name: count, Length: 92, dtype: int64\n",
      "Missing values in the dataset: \n",
      "\n",
      "order_id         0\n",
      "customer_name    0\n",
      "product          0\n",
      "quantity         0\n",
      "unit_price       0\n",
      "order_date       0\n",
      "dtype: int64\n"
     ]
    }
   ],
   "source": [
    "import pandas as pd\n",
    "df = pd.read_csv('kiwilytics_orders.csv')\n",
    "print('Summary of the dataset: \\n')\n",
    "print(df.head())\n",
    "print('Information of the dataset: \\n')\n",
    "print(df.info())\n",
    "print('Description of the dataset: \\n')\n",
    "print(df.describe())\n",
    "print('Missing values in the dataset: \\n')\n",
    "print(df.isna().sum())\n",
    "print('Unique values in the dataset: \\n')\n",
    "print(df.nunique())\n",
    "print('Value counts in the dataset: \\n')\n",
    "print(df.value_counts())\n",
    "\n"
   ]
  },
  {
   "cell_type": "code",
   "execution_count": 9,
   "id": "d6ad5da8",
   "metadata": {},
   "outputs": [
    {
     "name": "stdout",
     "output_type": "stream",
     "text": [
      "Missing values in the dataset: \n",
      "\n",
      "order_id         0\n",
      "customer_name    0\n",
      "product          0\n",
      "quantity         0\n",
      "unit_price       0\n",
      "order_date       0\n",
      "dtype: int64\n"
     ]
    }
   ],
   "source": [
    "# Fille null values in unit_price with the mean of the product\n",
    "df['unit_price'] = df['unit_price'].fillna(df.groupby('product')['unit_price'].transform('mean'))\n",
    "print('Missing values in the dataset: \\n')\n",
    "print(df.isna().sum())"
   ]
  },
  {
   "cell_type": "code",
   "execution_count": 13,
   "id": "5ec5b766",
   "metadata": {},
   "outputs": [
    {
     "name": "stdout",
     "output_type": "stream",
     "text": [
      "Order date is now a datetime: \n",
      "\n",
      "0   2024-01-29\n",
      "1   2024-01-08\n",
      "2   2024-01-25\n",
      "3   2024-01-04\n",
      "4   2024-02-25\n",
      "Name: order_date, dtype: datetime64[ns]\n"
     ]
    }
   ],
   "source": [
    "# Setting order date to datetime\n",
    "df['order_date'] = pd.to_datetime(df['order_date'])\n",
    "print('Order date is now a datetime: \\n')\n",
    "print(df['order_date'].head())\n"
   ]
  },
  {
   "cell_type": "code",
   "execution_count": null,
   "id": "0cb034e6",
   "metadata": {},
   "outputs": [
    {
     "name": "stdout",
     "output_type": "stream",
     "text": [
      "Total price of the order: \n",
      "\n",
      "1167.5\n",
      "Revenue: \n",
      "\n",
      "1167.5\n"
     ]
    }
   ],
   "source": [
    "# Calculate the total price of the order\n",
    "df['total_price'] = df['quantity'] * df['unit_price']\n",
    "print('Total price of the order: \\n')\n",
    "print(df['total_price'].sum())\n",
    "\n"
   ]
  },
  {
   "cell_type": "code",
   "execution_count": null,
   "id": "c7c9a813",
   "metadata": {},
   "outputs": [
    {
     "name": "stdout",
     "output_type": "stream",
     "text": [
      "Products sellings: \n",
      "\n",
      "product\n",
      "Kiwi Candy       70\n",
      "Kiwi Chips       73\n",
      "Kiwi Jam         41\n",
      "Kiwi Juice       61\n",
      "Kiwi Smoothie    46\n",
      "Name: quantity, dtype: int64\n",
      "Highest product price per product: \n",
      "\n",
      "product\n",
      "Kiwi Candy       2.5\n",
      "Kiwi Chips       3.0\n",
      "Kiwi Jam         6.0\n",
      "Kiwi Juice       4.5\n",
      "Kiwi Smoothie    5.5\n",
      "Name: unit_price, dtype: float64\n"
     ]
    }
   ],
   "source": [
    "# Get highest product quantity sold \n",
    "products_sellings = df.groupby('product')['quantity'].sum()\n",
    "print('Products sellings: \\n')\n",
    "print(products_sellings)\n",
    "\n",
    "# Get highest product price per product\n",
    "highest_product_price_per_product = df.groupby('product')['unit_price'].max()\n",
    "print('Highest product price per product: \\n')\n",
    "print(highest_product_price_per_product)\n"
   ]
  },
  {
   "cell_type": "code",
   "execution_count": null,
   "id": "52f0e811",
   "metadata": {},
   "outputs": [
    {
     "name": "stdout",
     "output_type": "stream",
     "text": [
      "Products sellings: \n",
      "\n",
      "product\n",
      "Kiwi Candy       70\n",
      "Kiwi Chips       73\n",
      "Kiwi Jam         41\n",
      "Kiwi Juice       61\n",
      "Kiwi Smoothie    46\n",
      "Name: quantity, dtype: int64\n",
      "Highest product price per product: \n",
      "\n",
      "product\n",
      "Kiwi Candy       2.5\n",
      "Kiwi Chips       3.0\n",
      "Kiwi Jam         6.0\n",
      "Kiwi Juice       4.5\n",
      "Kiwi Smoothie    5.5\n",
      "Name: unit_price, dtype: float64\n"
     ]
    }
   ],
   "source": [
    "# Get highest product quantity sold \n",
    "products_sellings = df.groupby('product')['quantity'].sum()\n",
    "print('Products sellings: \\n')\n",
    "print(products_sellings)\n",
    "\n",
    "# Get highest product price per product\n",
    "highest_product_price_per_product = df.groupby('product')['unit_price'].max()\n",
    "print('Highest product price per product: \\n')\n",
    "print(highest_product_price_per_product)\n"
   ]
  },
  {
   "cell_type": "code",
   "execution_count": null,
   "id": "3333f9a9",
   "metadata": {},
   "outputs": [
    {
     "name": "stdout",
     "output_type": "stream",
     "text": [
      "Products sellings: \n",
      "\n",
      "product\n",
      "Kiwi Candy       70\n",
      "Kiwi Chips       73\n",
      "Kiwi Jam         41\n",
      "Kiwi Juice       61\n",
      "Kiwi Smoothie    46\n",
      "Name: quantity, dtype: int64\n",
      "Highest product price per product: \n",
      "\n",
      "product\n",
      "Kiwi Candy       2.5\n",
      "Kiwi Chips       3.0\n",
      "Kiwi Jam         6.0\n",
      "Kiwi Juice       4.5\n",
      "Kiwi Smoothie    5.5\n",
      "Name: unit_price, dtype: float64\n"
     ]
    }
   ],
   "source": [
    "# Get highest product quantity sold \n",
    "products_sellings = df.groupby('product')['quantity'].sum()\n",
    "print('Products sellings: \\n')\n",
    "print(products_sellings)\n",
    "\n",
    "# Get highest product price per product\n",
    "highest_product_price_per_product = df.groupby('product')['unit_price'].max()\n",
    "print('Highest product price per product: \\n')\n",
    "print(highest_product_price_per_product)\n"
   ]
  },
  {
   "cell_type": "code",
   "execution_count": null,
   "id": "0ee80e94",
   "metadata": {},
   "outputs": [
    {
     "name": "stdout",
     "output_type": "stream",
     "text": [
      "Products sellings: \n",
      "\n",
      "product\n",
      "Kiwi Candy       70\n",
      "Kiwi Chips       73\n",
      "Kiwi Jam         41\n",
      "Kiwi Juice       61\n",
      "Kiwi Smoothie    46\n",
      "Name: quantity, dtype: int64\n",
      "Highest product price per product: \n",
      "\n",
      "product\n",
      "Kiwi Candy       2.5\n",
      "Kiwi Chips       3.0\n",
      "Kiwi Jam         6.0\n",
      "Kiwi Juice       4.5\n",
      "Kiwi Smoothie    5.5\n",
      "Name: unit_price, dtype: float64\n"
     ]
    }
   ],
   "source": [
    "# Get highest product quantity sold \n",
    "products_sellings = df.groupby('product')['quantity'].sum()\n",
    "print('Products sellings: \\n')\n",
    "print(products_sellings)\n",
    "\n",
    "# Get highest product price per product\n",
    "highest_product_price_per_product = df.groupby('product')['unit_price'].max()\n",
    "print('Highest product price per product: \\n')\n",
    "print(highest_product_price_per_product)\n"
   ]
  },
  {
   "cell_type": "code",
   "execution_count": null,
   "id": "757a91d6",
   "metadata": {},
   "outputs": [
    {
     "name": "stdout",
     "output_type": "stream",
     "text": [
      "Products sellings: \n",
      "\n",
      "product\n",
      "Kiwi Candy       70\n",
      "Kiwi Chips       73\n",
      "Kiwi Jam         41\n",
      "Kiwi Juice       61\n",
      "Kiwi Smoothie    46\n",
      "Name: quantity, dtype: int64\n",
      "Highest product price per product: \n",
      "\n",
      "product\n",
      "Kiwi Candy       2.5\n",
      "Kiwi Chips       3.0\n",
      "Kiwi Jam         6.0\n",
      "Kiwi Juice       4.5\n",
      "Kiwi Smoothie    5.5\n",
      "Name: unit_price, dtype: float64\n"
     ]
    }
   ],
   "source": [
    "# Get highest product quantity sold \n",
    "products_sellings = df.groupby('product')['quantity'].sum()\n",
    "print('Products sellings: \\n')\n",
    "print(products_sellings)\n",
    "\n",
    "# Get highest product price per product\n",
    "highest_product_price_per_product = df.groupby('product')['unit_price'].max()\n",
    "print('Highest product price per product: \\n')\n",
    "print(highest_product_price_per_product)\n"
   ]
  },
  {
   "cell_type": "code",
   "execution_count": null,
   "id": "20b8ceb4",
   "metadata": {},
   "outputs": [
    {
     "name": "stdout",
     "output_type": "stream",
     "text": [
      "Products sellings: \n",
      "\n",
      "product\n",
      "Kiwi Candy       70\n",
      "Kiwi Chips       73\n",
      "Kiwi Jam         41\n",
      "Kiwi Juice       61\n",
      "Kiwi Smoothie    46\n",
      "Name: quantity, dtype: int64\n",
      "Highest product price per product: \n",
      "\n",
      "product\n",
      "Kiwi Candy       2.5\n",
      "Kiwi Chips       3.0\n",
      "Kiwi Jam         6.0\n",
      "Kiwi Juice       4.5\n",
      "Kiwi Smoothie    5.5\n",
      "Name: unit_price, dtype: float64\n"
     ]
    }
   ],
   "source": [
    "# Get highest product quantity sold \n",
    "products_sellings = df.groupby('product')['quantity'].sum()\n",
    "print('Products sellings: \\n')\n",
    "print(products_sellings)\n",
    "\n",
    "# Get highest product price per product\n",
    "highest_product_price_per_product = df.groupby('product')['unit_price'].max()\n",
    "print('Highest product price per product: \\n')\n",
    "print(highest_product_price_per_product)\n"
   ]
  }
 ],
 "metadata": {
  "kernelspec": {
   "display_name": "base",
   "language": "python",
   "name": "python3"
  },
  "language_info": {
   "codemirror_mode": {
    "name": "ipython",
    "version": 3
   },
   "file_extension": ".py",
   "mimetype": "text/x-python",
   "name": "python",
   "nbconvert_exporter": "python",
   "pygments_lexer": "ipython3",
   "version": "3.13.5"
  }
 },
 "nbformat": 4,
 "nbformat_minor": 5
}
